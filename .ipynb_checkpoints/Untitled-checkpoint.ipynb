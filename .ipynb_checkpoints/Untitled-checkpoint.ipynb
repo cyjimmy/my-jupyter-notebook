{
 "cells": [
  {
   "cell_type": "code",
   "execution_count": 3,
   "id": "cd46b5f7",
   "metadata": {},
   "outputs": [
    {
     "name": "stdout",
     "output_type": "stream",
     "text": [
      "Hello, World!\n"
     ]
    }
   ],
   "source": [
    "print(\"Hello, World!\")"
   ]
  },
  {
   "cell_type": "markdown",
   "id": "e3b965a1",
   "metadata": {},
   "source": [
    "print(\"Hello, World!\")"
   ]
  },
  {
   "cell_type": "markdown",
   "id": "215641dc",
   "metadata": {},
   "source": [
    "## How To Run\n",
    "1. Install Python version 3.10\n",
    "2. Install project dependencies\n",
    "```buildoutcfg\n",
    "pip install -r requirements.txt\n",
    "```\n",
    "3. Run the /frontend/driver.py file"
   ]
  },
  {
   "cell_type": "code",
   "execution_count": null,
   "id": "d09c6004",
   "metadata": {},
   "outputs": [],
   "source": [
    "print(\"Hello, World!\")"
   ]
  }
 ],
 "metadata": {
  "kernelspec": {
   "display_name": "Python 3 (ipykernel)",
   "language": "python",
   "name": "python3"
  },
  "language_info": {
   "codemirror_mode": {
    "name": "ipython",
    "version": 3
   },
   "file_extension": ".py",
   "mimetype": "text/x-python",
   "name": "python",
   "nbconvert_exporter": "python",
   "pygments_lexer": "ipython3",
   "version": "3.11.1"
  }
 },
 "nbformat": 4,
 "nbformat_minor": 5
}
